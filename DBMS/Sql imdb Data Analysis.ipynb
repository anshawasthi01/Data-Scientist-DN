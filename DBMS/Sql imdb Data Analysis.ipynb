{
 "cells": [
  {
   "cell_type": "code",
   "execution_count": 2,
   "id": "4d80acc6",
   "metadata": {},
   "outputs": [],
   "source": [
    "import numpy as np\n",
    "import pandas as pd\n",
    "import matplotlib.pyplot as plt\n",
    "import seaborn as sns\n",
    "import sqlite3"
   ]
  },
  {
   "cell_type": "code",
   "execution_count": null,
   "id": "9a2f3259",
   "metadata": {},
   "outputs": [],
   "source": [
    "we need to eastablish a connection to the sqlite database by creating a connection\n",
    "we need to create a cursor using a cursor object # by using cursor we will able to know that on which pat or tbale of database we are working without using cursor we use whole database\n",
    "cursor_object.execute(query) \n",
    "fetch the data. fetchall() #most recently query executed by the cursor will be seen by using fetchall()"
   ]
  },
  {
   "cell_type": "code",
   "execution_count": 3,
   "id": "f27cc697",
   "metadata": {},
   "outputs": [
    {
     "data": {
      "text/plain": [
       "<sqlite3.Cursor at 0x132ce91f030>"
      ]
     },
     "execution_count": 3,
     "metadata": {},
     "output_type": "execute_result"
    }
   ],
   "source": [
    "conn = sqlite3.connect('movies.sqlite')\n",
    "# db = 'movies.sqlite'\n",
    "# conn = sqlite3.connect(db)\n",
    "cur = conn.cursor()\n",
    "cur.execute('select* from movies')"
   ]
  },
  {
   "cell_type": "code",
   "execution_count": 4,
   "id": "5ec5a089",
   "metadata": {},
   "outputs": [],
   "source": [
    "movies = cur.fetchall()"
   ]
  },
  {
   "cell_type": "code",
   "execution_count": 6,
   "id": "6f0f0e19",
   "metadata": {},
   "outputs": [],
   "source": [
    "movies = pd.DataFrame(movies, columns=['id','original_title','budget','popularity','release_date','revenue','title','vote_average','vote_count','overview','tagline','uid','director_id'])"
   ]
  },
  {
   "cell_type": "code",
   "execution_count": 7,
   "id": "43c67044",
   "metadata": {},
   "outputs": [],
   "source": [
    "cur.execute('select* from directors')\n",
    "directors = cur.fetchall()\n",
    "directors = pd.DataFrame(directors,columns=['name','id','gender','uid','department'])"
   ]
  },
  {
   "cell_type": "code",
   "execution_count": 8,
   "id": "570528eb",
   "metadata": {},
   "outputs": [
    {
     "data": {
      "text/html": [
       "<div>\n",
       "<style scoped>\n",
       "    .dataframe tbody tr th:only-of-type {\n",
       "        vertical-align: middle;\n",
       "    }\n",
       "\n",
       "    .dataframe tbody tr th {\n",
       "        vertical-align: top;\n",
       "    }\n",
       "\n",
       "    .dataframe thead th {\n",
       "        text-align: right;\n",
       "    }\n",
       "</style>\n",
       "<table border=\"1\" class=\"dataframe\">\n",
       "  <thead>\n",
       "    <tr style=\"text-align: right;\">\n",
       "      <th></th>\n",
       "      <th>name</th>\n",
       "      <th>id</th>\n",
       "      <th>gender</th>\n",
       "      <th>uid</th>\n",
       "      <th>department</th>\n",
       "    </tr>\n",
       "  </thead>\n",
       "  <tbody>\n",
       "    <tr>\n",
       "      <th>0</th>\n",
       "      <td>James Cameron</td>\n",
       "      <td>4762</td>\n",
       "      <td>2</td>\n",
       "      <td>2710</td>\n",
       "      <td>Directing</td>\n",
       "    </tr>\n",
       "    <tr>\n",
       "      <th>1</th>\n",
       "      <td>Gore Verbinski</td>\n",
       "      <td>4763</td>\n",
       "      <td>2</td>\n",
       "      <td>1704</td>\n",
       "      <td>Directing</td>\n",
       "    </tr>\n",
       "    <tr>\n",
       "      <th>2</th>\n",
       "      <td>Sam Mendes</td>\n",
       "      <td>4764</td>\n",
       "      <td>2</td>\n",
       "      <td>39</td>\n",
       "      <td>Directing</td>\n",
       "    </tr>\n",
       "    <tr>\n",
       "      <th>3</th>\n",
       "      <td>Christopher Nolan</td>\n",
       "      <td>4765</td>\n",
       "      <td>2</td>\n",
       "      <td>525</td>\n",
       "      <td>Directing</td>\n",
       "    </tr>\n",
       "    <tr>\n",
       "      <th>4</th>\n",
       "      <td>Andrew Stanton</td>\n",
       "      <td>4766</td>\n",
       "      <td>2</td>\n",
       "      <td>7</td>\n",
       "      <td>Directing</td>\n",
       "    </tr>\n",
       "    <tr>\n",
       "      <th>...</th>\n",
       "      <td>...</td>\n",
       "      <td>...</td>\n",
       "      <td>...</td>\n",
       "      <td>...</td>\n",
       "      <td>...</td>\n",
       "    </tr>\n",
       "    <tr>\n",
       "      <th>2344</th>\n",
       "      <td>Shane Carruth</td>\n",
       "      <td>7106</td>\n",
       "      <td>2</td>\n",
       "      <td>76624</td>\n",
       "      <td>Directing</td>\n",
       "    </tr>\n",
       "    <tr>\n",
       "      <th>2345</th>\n",
       "      <td>Neill Dela Llana</td>\n",
       "      <td>7107</td>\n",
       "      <td>0</td>\n",
       "      <td>1174437</td>\n",
       "      <td>Directing</td>\n",
       "    </tr>\n",
       "    <tr>\n",
       "      <th>2346</th>\n",
       "      <td>Scott Smith</td>\n",
       "      <td>7108</td>\n",
       "      <td>0</td>\n",
       "      <td>1219158</td>\n",
       "      <td>Directing</td>\n",
       "    </tr>\n",
       "    <tr>\n",
       "      <th>2347</th>\n",
       "      <td>Daniel Hsia</td>\n",
       "      <td>7109</td>\n",
       "      <td>2</td>\n",
       "      <td>208138</td>\n",
       "      <td>Directing</td>\n",
       "    </tr>\n",
       "    <tr>\n",
       "      <th>2348</th>\n",
       "      <td>Brian Herzlinger</td>\n",
       "      <td>7110</td>\n",
       "      <td>2</td>\n",
       "      <td>85563</td>\n",
       "      <td>Directing</td>\n",
       "    </tr>\n",
       "  </tbody>\n",
       "</table>\n",
       "<p>2349 rows × 5 columns</p>\n",
       "</div>"
      ],
      "text/plain": [
       "                   name    id  gender      uid department\n",
       "0         James Cameron  4762       2     2710  Directing\n",
       "1        Gore Verbinski  4763       2     1704  Directing\n",
       "2            Sam Mendes  4764       2       39  Directing\n",
       "3     Christopher Nolan  4765       2      525  Directing\n",
       "4        Andrew Stanton  4766       2        7  Directing\n",
       "...                 ...   ...     ...      ...        ...\n",
       "2344      Shane Carruth  7106       2    76624  Directing\n",
       "2345   Neill Dela Llana  7107       0  1174437  Directing\n",
       "2346        Scott Smith  7108       0  1219158  Directing\n",
       "2347        Daniel Hsia  7109       2   208138  Directing\n",
       "2348   Brian Herzlinger  7110       2    85563  Directing\n",
       "\n",
       "[2349 rows x 5 columns]"
      ]
     },
     "execution_count": 8,
     "metadata": {},
     "output_type": "execute_result"
    }
   ],
   "source": [
    "directors"
   ]
  },
  {
   "cell_type": "code",
   "execution_count": 9,
   "id": "d7d582cb",
   "metadata": {},
   "outputs": [
    {
     "data": {
      "text/plain": [
       "[(4773,)]"
      ]
     },
     "execution_count": 9,
     "metadata": {},
     "output_type": "execute_result"
    }
   ],
   "source": [
    "# check how many movies are present in the data\n",
    "cur.execute('select count(Title) from movies')\n",
    "cur.fetchall()"
   ]
  },
  {
   "cell_type": "code",
   "execution_count": 10,
   "id": "88ea73ff",
   "metadata": {},
   "outputs": [
    {
     "data": {
      "text/plain": [
       "[('John Woo', 4893, 2, 11401, 'Directing'),\n",
       " ('Luc Besson', 4949, 2, 59, 'Directing')]"
      ]
     },
     "execution_count": 10,
     "metadata": {},
     "output_type": "execute_result"
    }
   ],
   "source": [
    "# find the data of these three directors : James Camron, Luc Besson, John Woo\n",
    "#cur.execute(\"select *from directors where name in ('James Camron','Luc Besson','John Woo')\")\n",
    "cur.execute(\"select *from directors where name == 'James Camron' or name == 'Luc Besson' or name == 'John Woo'\")\n",
    "cur.fetchall()"
   ]
  },
  {
   "cell_type": "code",
   "execution_count": 11,
   "id": "33a0dd03",
   "metadata": {},
   "outputs": [
    {
     "data": {
      "text/plain": [
       "[('Steven Spielberg', 4799, 2, 488, 'Directing'),\n",
       " ('Steven Soderbergh', 4909, 2, 1884, 'Directing'),\n",
       " ('Steven Brill', 5013, 2, 32593, 'Directing'),\n",
       " ('Steven Zaillian', 5117, 2, 2260, 'Directing'),\n",
       " ('Steven Quale', 5216, 2, 93214, 'Directing'),\n",
       " ('Steven Seagal', 5221, 2, 23880, 'Directing'),\n",
       " ('Steven E. de Souza', 5390, 2, 1726, 'Directing'),\n",
       " ('Steven Shainberg', 5803, 2, 67795, 'Directing'),\n",
       " ('Steven R. Monroe', 6713, 2, 88039, 'Directing')]"
      ]
     },
     "execution_count": 11,
     "metadata": {},
     "output_type": "execute_result"
    }
   ],
   "source": [
    "# find all the directors with name starting with 'Steven'\n",
    "cur.execute(' select *from directors where name like \"Steven%\" ')\n",
    "cur.fetchall()"
   ]
  },
  {
   "cell_type": "code",
   "execution_count": 12,
   "id": "cb31bcea",
   "metadata": {},
   "outputs": [
    {
     "data": {
      "text/plain": [
       "150"
      ]
     },
     "execution_count": 12,
     "metadata": {},
     "output_type": "execute_result"
    }
   ],
   "source": [
    "# how many females directors\n",
    "cur.execute('select count(id) from directors where gender=1')\n",
    "#cur.fetchall()\n",
    "cur.fetchall()[0][0]"
   ]
  },
  {
   "cell_type": "code",
   "execution_count": 15,
   "id": "b167adda",
   "metadata": {},
   "outputs": [
    {
     "data": {
      "text/plain": [
       "[('Angelina Jolie',)]"
      ]
     },
     "execution_count": 15,
     "metadata": {},
     "output_type": "execute_result"
    }
   ],
   "source": [
    "# the name of the 10th women director\n",
    "#cur.execute('select name from directors where gender=1 limit 10')\n",
    "#cur.fetchall()[-1]\n",
    "#cur.fetchall()[9]\n",
    "cur.execute('select name from directors where gender=1 limit 9,1')\n",
    "cur.fetchall()"
   ]
  },
  {
   "cell_type": "code",
   "execution_count": 16,
   "id": "b57f39a1",
   "metadata": {},
   "outputs": [
    {
     "data": {
      "text/plain": [
       "[('Minions',), ('Interstellar',), ('Deadpool',)]"
      ]
     },
     "execution_count": 16,
     "metadata": {},
     "output_type": "execute_result"
    }
   ],
   "source": [
    "# what are the three most popular movies\n",
    "cur.execute('select original_title from movies order by popularity Desc limit 3')\n",
    "cur.fetchall()"
   ]
  },
  {
   "cell_type": "code",
   "execution_count": 17,
   "id": "7d1a911b",
   "metadata": {},
   "outputs": [
    {
     "data": {
      "text/plain": [
       "[('Sardaarji',)]"
      ]
     },
     "execution_count": 17,
     "metadata": {},
     "output_type": "execute_result"
    }
   ],
   "source": [
    "# what is most awarded movie since jan 1st 2000\n",
    "cur.execute('select original_title from movies where release_date > \"2000-01-01\" order by vote_average desc limit 1')\n",
    "cur.fetchall()"
   ]
  },
  {
   "cell_type": "code",
   "execution_count": 18,
   "id": "44a40a63",
   "metadata": {},
   "outputs": [
    {
     "data": {
      "text/plain": [
       "[('Brave',)]"
      ]
     },
     "execution_count": 18,
     "metadata": {},
     "output_type": "execute_result"
    }
   ],
   "source": [
    "# which movies were directed by Brenda Chapman?\n",
    "cur.execute('select original_title from movies join directors on directors.id = movies.director_id where directors.name = \"Brenda Chapman\" ')\n",
    "cur.fetchall()"
   ]
  },
  {
   "cell_type": "code",
   "execution_count": 19,
   "id": "93315da4",
   "metadata": {},
   "outputs": [
    {
     "data": {
      "text/plain": [
       "[('Steven Spielberg',)]"
      ]
     },
     "execution_count": 19,
     "metadata": {},
     "output_type": "execute_result"
    }
   ],
   "source": [
    "# name of the director who has made most number of movies\n",
    "cur.execute('select name from directors join movies on directors.id = movies.director_id group by director_id order by count(movies.id) desc limit 1')\n",
    "cur.fetchall()"
   ]
  },
  {
   "cell_type": "code",
   "execution_count": 20,
   "id": "bae8d89a",
   "metadata": {},
   "outputs": [
    {
     "data": {
      "text/plain": [
       "[('Steven Spielberg',)]"
      ]
     },
     "execution_count": 20,
     "metadata": {},
     "output_type": "execute_result"
    }
   ],
   "source": [
    "# name of the bankable director\n",
    "cur.execute('select name from directors join movies on directors.id = movies.director_id group by director_id order by sum(budget) desc limit 1')\n",
    "cur.fetchall()"
   ]
  },
  {
   "cell_type": "code",
   "execution_count": 21,
   "id": "5f15a47c",
   "metadata": {},
   "outputs": [
    {
     "data": {
      "text/html": [
       "<div>\n",
       "<style scoped>\n",
       "    .dataframe tbody tr th:only-of-type {\n",
       "        vertical-align: middle;\n",
       "    }\n",
       "\n",
       "    .dataframe tbody tr th {\n",
       "        vertical-align: top;\n",
       "    }\n",
       "\n",
       "    .dataframe thead th {\n",
       "        text-align: right;\n",
       "    }\n",
       "</style>\n",
       "<table border=\"1\" class=\"dataframe\">\n",
       "  <thead>\n",
       "    <tr style=\"text-align: right;\">\n",
       "      <th></th>\n",
       "      <th>0</th>\n",
       "      <th>1</th>\n",
       "      <th>2</th>\n",
       "      <th>3</th>\n",
       "      <th>4</th>\n",
       "      <th>5</th>\n",
       "      <th>6</th>\n",
       "      <th>7</th>\n",
       "      <th>8</th>\n",
       "      <th>9</th>\n",
       "      <th>10</th>\n",
       "      <th>11</th>\n",
       "      <th>12</th>\n",
       "      <th>13</th>\n",
       "      <th>14</th>\n",
       "      <th>15</th>\n",
       "      <th>16</th>\n",
       "      <th>17</th>\n",
       "    </tr>\n",
       "  </thead>\n",
       "  <tbody>\n",
       "    <tr>\n",
       "      <th>0</th>\n",
       "      <td>43614</td>\n",
       "      <td>Pirates of the Caribbean: On Stranger Tides</td>\n",
       "      <td>380000000</td>\n",
       "      <td>135</td>\n",
       "      <td>2011-05-14</td>\n",
       "      <td>1045713802</td>\n",
       "      <td>Pirates of the Caribbean: On Stranger Tides</td>\n",
       "      <td>6.4</td>\n",
       "      <td>4948</td>\n",
       "      <td>Captain Jack Sparrow crosses paths with a woma...</td>\n",
       "      <td>Live Forever Or Die Trying.</td>\n",
       "      <td>1865</td>\n",
       "      <td>4775</td>\n",
       "      <td>Rob Marshall</td>\n",
       "      <td>4775</td>\n",
       "      <td>2</td>\n",
       "      <td>17633</td>\n",
       "      <td>Directing</td>\n",
       "    </tr>\n",
       "    <tr>\n",
       "      <th>1</th>\n",
       "      <td>43598</td>\n",
       "      <td>Pirates of the Caribbean: At World's End</td>\n",
       "      <td>300000000</td>\n",
       "      <td>139</td>\n",
       "      <td>2007-05-19</td>\n",
       "      <td>961000000</td>\n",
       "      <td>Pirates of the Caribbean: At World's End</td>\n",
       "      <td>6.9</td>\n",
       "      <td>4500</td>\n",
       "      <td>Captain Barbossa, long believed to be dead, ha...</td>\n",
       "      <td>At the end of the world, the adventure begins.</td>\n",
       "      <td>285</td>\n",
       "      <td>4763</td>\n",
       "      <td>Gore Verbinski</td>\n",
       "      <td>4763</td>\n",
       "      <td>2</td>\n",
       "      <td>1704</td>\n",
       "      <td>Directing</td>\n",
       "    </tr>\n",
       "    <tr>\n",
       "      <th>2</th>\n",
       "      <td>43604</td>\n",
       "      <td>Avengers: Age of Ultron</td>\n",
       "      <td>280000000</td>\n",
       "      <td>134</td>\n",
       "      <td>2015-04-22</td>\n",
       "      <td>1405403694</td>\n",
       "      <td>Avengers: Age of Ultron</td>\n",
       "      <td>7.3</td>\n",
       "      <td>6767</td>\n",
       "      <td>When Tony Stark tries to jumpstart a dormant p...</td>\n",
       "      <td>A New Age Has Come.</td>\n",
       "      <td>99861</td>\n",
       "      <td>4769</td>\n",
       "      <td>Joss Whedon</td>\n",
       "      <td>4769</td>\n",
       "      <td>2</td>\n",
       "      <td>12891</td>\n",
       "      <td>Directing</td>\n",
       "    </tr>\n",
       "    <tr>\n",
       "      <th>3</th>\n",
       "      <td>43607</td>\n",
       "      <td>Superman Returns</td>\n",
       "      <td>270000000</td>\n",
       "      <td>57</td>\n",
       "      <td>2006-06-28</td>\n",
       "      <td>391081192</td>\n",
       "      <td>Superman Returns</td>\n",
       "      <td>5.4</td>\n",
       "      <td>1400</td>\n",
       "      <td>Superman returns to discover his 5-year absenc...</td>\n",
       "      <td>None</td>\n",
       "      <td>1452</td>\n",
       "      <td>4772</td>\n",
       "      <td>Bryan Singer</td>\n",
       "      <td>4772</td>\n",
       "      <td>2</td>\n",
       "      <td>9032</td>\n",
       "      <td>Directing</td>\n",
       "    </tr>\n",
       "    <tr>\n",
       "      <th>4</th>\n",
       "      <td>43601</td>\n",
       "      <td>John Carter</td>\n",
       "      <td>260000000</td>\n",
       "      <td>43</td>\n",
       "      <td>2012-03-07</td>\n",
       "      <td>284139100</td>\n",
       "      <td>John Carter</td>\n",
       "      <td>6.1</td>\n",
       "      <td>2124</td>\n",
       "      <td>John Carter is a war-weary, former military ca...</td>\n",
       "      <td>Lost in our world, found in another.</td>\n",
       "      <td>49529</td>\n",
       "      <td>4766</td>\n",
       "      <td>Andrew Stanton</td>\n",
       "      <td>4766</td>\n",
       "      <td>2</td>\n",
       "      <td>7</td>\n",
       "      <td>Directing</td>\n",
       "    </tr>\n",
       "    <tr>\n",
       "      <th>5</th>\n",
       "      <td>43603</td>\n",
       "      <td>Tangled</td>\n",
       "      <td>260000000</td>\n",
       "      <td>48</td>\n",
       "      <td>2010-11-24</td>\n",
       "      <td>591794936</td>\n",
       "      <td>Tangled</td>\n",
       "      <td>7.4</td>\n",
       "      <td>3330</td>\n",
       "      <td>When the kingdom's most wanted-and most charmi...</td>\n",
       "      <td>They're taking adventure to new lengths.</td>\n",
       "      <td>38757</td>\n",
       "      <td>4768</td>\n",
       "      <td>Byron Howard</td>\n",
       "      <td>4768</td>\n",
       "      <td>2</td>\n",
       "      <td>76595</td>\n",
       "      <td>Directing</td>\n",
       "    </tr>\n",
       "    <tr>\n",
       "      <th>6</th>\n",
       "      <td>43602</td>\n",
       "      <td>Spider-Man 3</td>\n",
       "      <td>258000000</td>\n",
       "      <td>115</td>\n",
       "      <td>2007-05-01</td>\n",
       "      <td>890871626</td>\n",
       "      <td>Spider-Man 3</td>\n",
       "      <td>5.9</td>\n",
       "      <td>3576</td>\n",
       "      <td>The seemingly invincible Spider-Man goes up ag...</td>\n",
       "      <td>The battle within.</td>\n",
       "      <td>559</td>\n",
       "      <td>4767</td>\n",
       "      <td>Sam Raimi</td>\n",
       "      <td>4767</td>\n",
       "      <td>2</td>\n",
       "      <td>7623</td>\n",
       "      <td>Directing</td>\n",
       "    </tr>\n",
       "    <tr>\n",
       "      <th>7</th>\n",
       "      <td>43610</td>\n",
       "      <td>The Lone Ranger</td>\n",
       "      <td>255000000</td>\n",
       "      <td>49</td>\n",
       "      <td>2013-07-03</td>\n",
       "      <td>89289910</td>\n",
       "      <td>The Lone Ranger</td>\n",
       "      <td>5.9</td>\n",
       "      <td>2311</td>\n",
       "      <td>The Texas Rangers chase down a gang of outlaws...</td>\n",
       "      <td>Never Take Off the Mask</td>\n",
       "      <td>57201</td>\n",
       "      <td>4763</td>\n",
       "      <td>Gore Verbinski</td>\n",
       "      <td>4763</td>\n",
       "      <td>2</td>\n",
       "      <td>1704</td>\n",
       "      <td>Directing</td>\n",
       "    </tr>\n",
       "    <tr>\n",
       "      <th>8</th>\n",
       "      <td>43600</td>\n",
       "      <td>The Dark Knight Rises</td>\n",
       "      <td>250000000</td>\n",
       "      <td>112</td>\n",
       "      <td>2012-07-16</td>\n",
       "      <td>1084939099</td>\n",
       "      <td>The Dark Knight Rises</td>\n",
       "      <td>7.6</td>\n",
       "      <td>9106</td>\n",
       "      <td>Following the death of District Attorney Harve...</td>\n",
       "      <td>The Legend Ends</td>\n",
       "      <td>49026</td>\n",
       "      <td>4765</td>\n",
       "      <td>Christopher Nolan</td>\n",
       "      <td>4765</td>\n",
       "      <td>2</td>\n",
       "      <td>525</td>\n",
       "      <td>Directing</td>\n",
       "    </tr>\n",
       "    <tr>\n",
       "      <th>9</th>\n",
       "      <td>43605</td>\n",
       "      <td>Harry Potter and the Half-Blood Prince</td>\n",
       "      <td>250000000</td>\n",
       "      <td>98</td>\n",
       "      <td>2009-07-07</td>\n",
       "      <td>933959197</td>\n",
       "      <td>Harry Potter and the Half-Blood Prince</td>\n",
       "      <td>7.4</td>\n",
       "      <td>5293</td>\n",
       "      <td>As Harry begins his sixth year at Hogwarts, he...</td>\n",
       "      <td>Dark Secrets Revealed</td>\n",
       "      <td>767</td>\n",
       "      <td>4770</td>\n",
       "      <td>David Yates</td>\n",
       "      <td>4770</td>\n",
       "      <td>2</td>\n",
       "      <td>11343</td>\n",
       "      <td>Directing</td>\n",
       "    </tr>\n",
       "  </tbody>\n",
       "</table>\n",
       "</div>"
      ],
      "text/plain": [
       "      0                                            1          2    3   \\\n",
       "0  43614  Pirates of the Caribbean: On Stranger Tides  380000000  135   \n",
       "1  43598     Pirates of the Caribbean: At World's End  300000000  139   \n",
       "2  43604                      Avengers: Age of Ultron  280000000  134   \n",
       "3  43607                             Superman Returns  270000000   57   \n",
       "4  43601                                  John Carter  260000000   43   \n",
       "5  43603                                      Tangled  260000000   48   \n",
       "6  43602                                 Spider-Man 3  258000000  115   \n",
       "7  43610                              The Lone Ranger  255000000   49   \n",
       "8  43600                        The Dark Knight Rises  250000000  112   \n",
       "9  43605       Harry Potter and the Half-Blood Prince  250000000   98   \n",
       "\n",
       "           4           5                                            6    7   \\\n",
       "0  2011-05-14  1045713802  Pirates of the Caribbean: On Stranger Tides  6.4   \n",
       "1  2007-05-19   961000000     Pirates of the Caribbean: At World's End  6.9   \n",
       "2  2015-04-22  1405403694                      Avengers: Age of Ultron  7.3   \n",
       "3  2006-06-28   391081192                             Superman Returns  5.4   \n",
       "4  2012-03-07   284139100                                  John Carter  6.1   \n",
       "5  2010-11-24   591794936                                      Tangled  7.4   \n",
       "6  2007-05-01   890871626                                 Spider-Man 3  5.9   \n",
       "7  2013-07-03    89289910                              The Lone Ranger  5.9   \n",
       "8  2012-07-16  1084939099                        The Dark Knight Rises  7.6   \n",
       "9  2009-07-07   933959197       Harry Potter and the Half-Blood Prince  7.4   \n",
       "\n",
       "     8                                                  9   \\\n",
       "0  4948  Captain Jack Sparrow crosses paths with a woma...   \n",
       "1  4500  Captain Barbossa, long believed to be dead, ha...   \n",
       "2  6767  When Tony Stark tries to jumpstart a dormant p...   \n",
       "3  1400  Superman returns to discover his 5-year absenc...   \n",
       "4  2124  John Carter is a war-weary, former military ca...   \n",
       "5  3330  When the kingdom's most wanted-and most charmi...   \n",
       "6  3576  The seemingly invincible Spider-Man goes up ag...   \n",
       "7  2311  The Texas Rangers chase down a gang of outlaws...   \n",
       "8  9106  Following the death of District Attorney Harve...   \n",
       "9  5293  As Harry begins his sixth year at Hogwarts, he...   \n",
       "\n",
       "                                               10     11    12  \\\n",
       "0                     Live Forever Or Die Trying.   1865  4775   \n",
       "1  At the end of the world, the adventure begins.    285  4763   \n",
       "2                             A New Age Has Come.  99861  4769   \n",
       "3                                            None   1452  4772   \n",
       "4            Lost in our world, found in another.  49529  4766   \n",
       "5        They're taking adventure to new lengths.  38757  4768   \n",
       "6                              The battle within.    559  4767   \n",
       "7                         Never Take Off the Mask  57201  4763   \n",
       "8                                 The Legend Ends  49026  4765   \n",
       "9                           Dark Secrets Revealed    767  4770   \n",
       "\n",
       "                  13    14  15     16         17  \n",
       "0       Rob Marshall  4775   2  17633  Directing  \n",
       "1     Gore Verbinski  4763   2   1704  Directing  \n",
       "2        Joss Whedon  4769   2  12891  Directing  \n",
       "3       Bryan Singer  4772   2   9032  Directing  \n",
       "4     Andrew Stanton  4766   2      7  Directing  \n",
       "5       Byron Howard  4768   2  76595  Directing  \n",
       "6          Sam Raimi  4767   2   7623  Directing  \n",
       "7     Gore Verbinski  4763   2   1704  Directing  \n",
       "8  Christopher Nolan  4765   2    525  Directing  \n",
       "9        David Yates  4770   2  11343  Directing  "
      ]
     },
     "execution_count": 21,
     "metadata": {},
     "output_type": "execute_result"
    }
   ],
   "source": [
    "# tell everything about top 10 highest budget making movies\n",
    "\n",
    "#cur.execute('select* from movies order by budget desc limit 10')\n",
    "#cur.fetchall()\n",
    "#pd.DataFrame(cur.fetchall(), columns= movies.columns)\n",
    "cur.execute('select* from movies join directors on movies.director_id = directors.id order by budget desc limit 10')\n",
    "pd.DataFrame(cur.fetchall())"
   ]
  },
  {
   "cell_type": "code",
   "execution_count": 24,
   "id": "fb1081e6",
   "metadata": {},
   "outputs": [
    {
     "data": {
      "text/plain": [
       "[(43614,\n",
       "  'Pirates of the Caribbean: On Stranger Tides',\n",
       "  380000000,\n",
       "  135,\n",
       "  '2011-05-14',\n",
       "  1045713802,\n",
       "  'Pirates of the Caribbean: On Stranger Tides',\n",
       "  6.4,\n",
       "  4948,\n",
       "  \"Captain Jack Sparrow crosses paths with a woman from his past, and he's not sure if it's love -- or if she's a ruthless con artist who's using him to find the fabled Fountain of Youth. When she forces him aboard the Queen Anne's Revenge, the ship of the formidable pirate Blackbeard, Jack finds himself on an unexpected adventure in which he doesn't know who to fear more: Blackbeard or the woman from his past.\",\n",
       "  'Live Forever Or Die Trying.',\n",
       "  1865,\n",
       "  4775),\n",
       " (43598,\n",
       "  \"Pirates of the Caribbean: At World's End\",\n",
       "  300000000,\n",
       "  139,\n",
       "  '2007-05-19',\n",
       "  961000000,\n",
       "  \"Pirates of the Caribbean: At World's End\",\n",
       "  6.9,\n",
       "  4500,\n",
       "  'Captain Barbossa, long believed to be dead, has come back to life and is headed to the edge of the Earth with Will Turner and Elizabeth Swann. But nothing is quite as it seems.',\n",
       "  'At the end of the world, the adventure begins.',\n",
       "  285,\n",
       "  4763),\n",
       " (43604,\n",
       "  'Avengers: Age of Ultron',\n",
       "  280000000,\n",
       "  134,\n",
       "  '2015-04-22',\n",
       "  1405403694,\n",
       "  'Avengers: Age of Ultron',\n",
       "  7.3,\n",
       "  6767,\n",
       "  'When Tony Stark tries to jumpstart a dormant peacekeeping program, things go awry and Earth’s Mightiest Heroes are put to the ultimate test as the fate of the planet hangs in the balance. As the villainous Ultron emerges, it is up to The Avengers to stop him from enacting his terrible plans, and soon uneasy alliances and unexpected action pave the way for an epic and unique global adventure.',\n",
       "  'A New Age Has Come.',\n",
       "  99861,\n",
       "  4769),\n",
       " (43607,\n",
       "  'Superman Returns',\n",
       "  270000000,\n",
       "  57,\n",
       "  '2006-06-28',\n",
       "  391081192,\n",
       "  'Superman Returns',\n",
       "  5.4,\n",
       "  1400,\n",
       "  'Superman returns to discover his 5-year absence has allowed Lex Luthor to walk free, and that those he was closest too felt abandoned and have moved on. Luthor plots his ultimate revenge that could see millions killed and change the face of the planet forever, as well as ridding himself of the Man of Steel.',\n",
       "  None,\n",
       "  1452,\n",
       "  4772),\n",
       " (43601,\n",
       "  'John Carter',\n",
       "  260000000,\n",
       "  43,\n",
       "  '2012-03-07',\n",
       "  284139100,\n",
       "  'John Carter',\n",
       "  6.1,\n",
       "  2124,\n",
       "  \"John Carter is a war-weary, former military captain who's inexplicably transported to the mysterious and exotic planet of Barsoom (Mars) and reluctantly becomes embroiled in an epic conflict. It's a world on the brink of collapse, and Carter rediscovers his humanity when he realizes the survival of Barsoom and its people rests in his hands.\",\n",
       "  'Lost in our world, found in another.',\n",
       "  49529,\n",
       "  4766),\n",
       " (43603,\n",
       "  'Tangled',\n",
       "  260000000,\n",
       "  48,\n",
       "  '2010-11-24',\n",
       "  591794936,\n",
       "  'Tangled',\n",
       "  7.4,\n",
       "  3330,\n",
       "  \"When the kingdom's most wanted-and most charming-bandit Flynn Rider hides out in a mysterious tower, he's taken hostage by Rapunzel, a beautiful and feisty tower-bound teen with 70 feet of magical, golden hair. Flynn's curious captor, who's looking for her ticket out of the tower where she's been locked away for years, strikes a deal with the handsome thief and the unlikely duo sets off on an action-packed escapade, complete with a super-cop horse, an over-protective chameleon and a gruff gang of pub thugs.\",\n",
       "  \"They're taking adventure to new lengths.\",\n",
       "  38757,\n",
       "  4768),\n",
       " (43602,\n",
       "  'Spider-Man 3',\n",
       "  258000000,\n",
       "  115,\n",
       "  '2007-05-01',\n",
       "  890871626,\n",
       "  'Spider-Man 3',\n",
       "  5.9,\n",
       "  3576,\n",
       "  'The seemingly invincible Spider-Man goes up against an all-new crop of villain – including the shape-shifting Sandman. While Spider-Man’s superpowers are altered by an alien organism, his alter ego, Peter Parker, deals with nemesis Eddie Brock and also gets caught up in a love triangle.',\n",
       "  'The battle within.',\n",
       "  559,\n",
       "  4767),\n",
       " (43610,\n",
       "  'The Lone Ranger',\n",
       "  255000000,\n",
       "  49,\n",
       "  '2013-07-03',\n",
       "  89289910,\n",
       "  'The Lone Ranger',\n",
       "  5.9,\n",
       "  2311,\n",
       "  'The Texas Rangers chase down a gang of outlaws led by Butch Cavendish, but the gang ambushes the Rangers, seemingly killing them all. One survivor is found, however, by an American Indian named Tonto, who nurses him back to health. The Ranger, donning a mask and riding a white stallion named Silver, teams up with Tonto to bring the unscrupulous gang and others of that ilk to justice.',\n",
       "  'Never Take Off the Mask',\n",
       "  57201,\n",
       "  4763),\n",
       " (43600,\n",
       "  'The Dark Knight Rises',\n",
       "  250000000,\n",
       "  112,\n",
       "  '2012-07-16',\n",
       "  1084939099,\n",
       "  'The Dark Knight Rises',\n",
       "  7.6,\n",
       "  9106,\n",
       "  \"Following the death of District Attorney Harvey Dent, Batman assumes responsibility for Dent's crimes to protect the late attorney's reputation and is subsequently hunted by the Gotham City Police Department. Eight years later, Batman encounters the mysterious Selina Kyle and the villainous Bane, a new terrorist leader who overwhelms Gotham's finest. The Dark Knight resurfaces to protect a city that has branded him an enemy.\",\n",
       "  'The Legend Ends',\n",
       "  49026,\n",
       "  4765),\n",
       " (43605,\n",
       "  'Harry Potter and the Half-Blood Prince',\n",
       "  250000000,\n",
       "  98,\n",
       "  '2009-07-07',\n",
       "  933959197,\n",
       "  'Harry Potter and the Half-Blood Prince',\n",
       "  7.4,\n",
       "  5293,\n",
       "  \"As Harry begins his sixth year at Hogwarts, he discovers an old book marked as 'Property of the Half-Blood Prince', and begins to learn more about Lord Voldemort's dark past.\",\n",
       "  'Dark Secrets Revealed',\n",
       "  767,\n",
       "  4770)]"
      ]
     },
     "execution_count": 24,
     "metadata": {},
     "output_type": "execute_result"
    }
   ],
   "source": [
    "# Revnenue Analysis\n",
    "# find top 10 revenue making movies\n",
    "cur.execute('select * from movies order by budget desc limit 10')\n",
    "cur.fetchall()"
   ]
  },
  {
   "cell_type": "code",
   "execution_count": 35,
   "id": "2a74a219",
   "metadata": {},
   "outputs": [
    {
     "data": {
      "text/html": [
       "<div>\n",
       "<style scoped>\n",
       "    .dataframe tbody tr th:only-of-type {\n",
       "        vertical-align: middle;\n",
       "    }\n",
       "\n",
       "    .dataframe tbody tr th {\n",
       "        vertical-align: top;\n",
       "    }\n",
       "\n",
       "    .dataframe thead th {\n",
       "        text-align: right;\n",
       "    }\n",
       "</style>\n",
       "<table border=\"1\" class=\"dataframe\">\n",
       "  <thead>\n",
       "    <tr style=\"text-align: right;\">\n",
       "      <th></th>\n",
       "      <th>name</th>\n",
       "      <th>count</th>\n",
       "      <th>revenue</th>\n",
       "    </tr>\n",
       "  </thead>\n",
       "  <tbody>\n",
       "    <tr>\n",
       "      <th>0</th>\n",
       "      <td>Steven Spielberg</td>\n",
       "      <td>27</td>\n",
       "      <td>9147393164</td>\n",
       "    </tr>\n",
       "    <tr>\n",
       "      <th>1</th>\n",
       "      <td>Peter Jackson</td>\n",
       "      <td>9</td>\n",
       "      <td>6498642820</td>\n",
       "    </tr>\n",
       "    <tr>\n",
       "      <th>2</th>\n",
       "      <td>James Cameron</td>\n",
       "      <td>7</td>\n",
       "      <td>5883569439</td>\n",
       "    </tr>\n",
       "    <tr>\n",
       "      <th>3</th>\n",
       "      <td>Michael Bay</td>\n",
       "      <td>12</td>\n",
       "      <td>5832524638</td>\n",
       "    </tr>\n",
       "    <tr>\n",
       "      <th>4</th>\n",
       "      <td>Christopher Nolan</td>\n",
       "      <td>8</td>\n",
       "      <td>4227483234</td>\n",
       "    </tr>\n",
       "  </tbody>\n",
       "</table>\n",
       "</div>"
      ],
      "text/plain": [
       "                name  count     revenue\n",
       "0   Steven Spielberg     27  9147393164\n",
       "1      Peter Jackson      9  6498642820\n",
       "2      James Cameron      7  5883569439\n",
       "3        Michael Bay     12  5832524638\n",
       "4  Christopher Nolan      8  4227483234"
      ]
     },
     "execution_count": 35,
     "metadata": {},
     "output_type": "execute_result"
    }
   ],
   "source": [
    "# name all the directors with the number movies and revenue\n",
    "cur.execute('select name, count(title), sum(revenue) from movies join directors where movies.director_id = directors.id group by director_id order by sum(revenue) desc limit 5')\n",
    "pd.DataFrame(cur.fetchall(), columns=['name','count','revenue'])"
   ]
  },
  {
   "cell_type": "code",
   "execution_count": null,
   "id": "570a59e4",
   "metadata": {},
   "outputs": [],
   "source": [
    "# How many male directorshave generated revenue more than 3227483234\n",
    "# Give title, release date, budget, revenue, popularity and vote average of the movies made by director name like steven"
   ]
  },
  {
   "cell_type": "code",
   "execution_count": null,
   "id": "a68291b6",
   "metadata": {},
   "outputs": [],
   "source": []
  },
  {
   "cell_type": "code",
   "execution_count": null,
   "id": "75f344aa",
   "metadata": {},
   "outputs": [],
   "source": []
  }
 ],
 "metadata": {
  "kernelspec": {
   "display_name": "Python 3 (ipykernel)",
   "language": "python",
   "name": "python3"
  },
  "language_info": {
   "codemirror_mode": {
    "name": "ipython",
    "version": 3
   },
   "file_extension": ".py",
   "mimetype": "text/x-python",
   "name": "python",
   "nbconvert_exporter": "python",
   "pygments_lexer": "ipython3",
   "version": "3.9.12"
  }
 },
 "nbformat": 4,
 "nbformat_minor": 5
}
